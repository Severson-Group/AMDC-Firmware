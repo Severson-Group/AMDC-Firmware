{
 "cells": [
  {
   "cell_type": "code",
   "execution_count": 1,
   "metadata": {},
   "outputs": [],
   "source": [
    "import numpy as np\n",
    "import matplotlib.pyplot as plt\n",
    "from AMDC import AMDC\n",
    "from AMDC_Logger import AMDC_Logger\n",
    "import time\n",
    "import pathlib as pl\n",
    "import pandas as pd\n",
    "import struct\n",
    "import time"
   ]
  },
  {
   "cell_type": "code",
   "execution_count": 2,
   "metadata": {},
   "outputs": [],
   "source": [
    "mapfile = pl.Path(r'C:\\Users\\Nathan\\Documents\\GitHub\\AMDC-Firmware\\sdk\\bare\\user\\Debug\\mapfile.txt')\n",
    "c_code_root = pl.Path(r'C:\\Users\\Nathan\\Documents\\GitHub\\AMDC-Firmware\\sdk\\bare')\n",
    "\n",
    "amdc = AMDC(port = 'COM3', cmdEcho = True)\n",
    "logger = AMDC_Logger(AMDC = amdc, mapfile = mapfile)"
   ]
  },
  {
   "cell_type": "code",
   "execution_count": 3,
   "metadata": {},
   "outputs": [],
   "source": [
    "amdc.connect()"
   ]
  },
  {
   "cell_type": "code",
   "execution_count": 7,
   "metadata": {},
   "outputs": [],
   "source": [
    "amdc.disconnect()"
   ]
  },
  {
   "cell_type": "code",
   "execution_count": 4,
   "metadata": {},
   "outputs": [
    {
     "name": "stdout",
     "output_type": "stream",
     "text": [
      "\t> log reg 0 LOG_vsi_a 1179848 10000 double\n",
      "['log reg 0 LOG_vsi_a 1179848 10000 double', 'SUCCESS']\n",
      "\t> log reg 1 LOG_vsi_b 1179856 10000 double\n",
      "['log reg 1 LOG_vsi_b 1179856 10000 double', 'SUCCESS']\n",
      "\t> log reg 2 LOG_vsi_c 1179864 10000 double\n",
      "['log reg 2 LOG_vsi_c 1179864 10000 double', 'SUCCESS']\n"
     ]
    }
   ],
   "source": [
    "log_vars = 'vsi_a vsi_b vsi_c'\n",
    "logger.register(log_vars, samples_per_sec = 10000)\n",
    "#logger.auto_register(c_code_root, samples_per_sec = 10000)"
   ]
  },
  {
   "cell_type": "code",
   "execution_count": 5,
   "metadata": {},
   "outputs": [
    {
     "name": "stdout",
     "output_type": "stream",
     "text": [
      "\t> log empty 0\n",
      "['log empty 0', 'SUCCESS']\n",
      "\t> log empty 1\n",
      "['log empty 1', 'SUCCESS']\n",
      "\t> log empty 2\n",
      "['log empty 2', 'SUCCESS']\n"
     ]
    }
   ],
   "source": [
    "logger.clear_all()"
   ]
  },
  {
   "cell_type": "code",
   "execution_count": 5,
   "metadata": {},
   "outputs": [
    {
     "name": "stdout",
     "output_type": "stream",
     "text": [
      "\t> log start\n",
      "['log start', 'SUCCESS']\n",
      "\t> log stop\n",
      "['log stop', 'SUCCESS']\n"
     ]
    }
   ],
   "source": [
    "logger.log(duration = 2)"
   ]
  },
  {
   "cell_type": "code",
   "execution_count": 130,
   "metadata": {},
   "outputs": [
    {
     "name": "stdout",
     "output_type": "stream",
     "text": [
      "\t> log dump bin 31\n"
     ]
    }
   ],
   "source": []
  },
  {
   "cell_type": "code",
   "execution_count": null,
   "metadata": {},
   "outputs": [],
   "source": []
  },
  {
   "cell_type": "code",
   "execution_count": 16,
   "metadata": {},
   "outputs": [
    {
     "name": "stdout",
     "output_type": "stream",
     "text": [
      "\t> log dump bin 3\n",
      "magic_header_idx: 26\n",
      "magic_footer_idx: 159235\n",
      "Dump took: 19.818918  sec\n"
     ]
    }
   ],
   "source": [
    "var = \"LOG_vsi_a\"\n",
    "\n",
    "# Start dumping to host\n",
    "amdc.captureOutput = False\n",
    "amdc.cmd(\"log dump bin 3\")\n",
    "amdc.captureOutput = True\n",
    "\n",
    "# These are repeating 4 times in the binary stream!\n",
    "MAGIC_HEADER = 0x12345678\n",
    "MAGIC_FOOTER = 0x11223344\n",
    "\n",
    "magic_header_idx = 0\n",
    "magic_footer_idx = 0\n",
    "\n",
    "dump_data = bytearray()\n",
    "dump_data_idx = 0\n",
    "\n",
    "start_time = time.time()\n",
    "timeout_sec = 30 # about 1kSPS\n",
    "\n",
    "found_footer = False\n",
    "while not found_footer:   \n",
    "    # Read in all serial data from OS buffer\n",
    "    out = bytes(amdc.ser.read_all())\n",
    "    dump_data += out\n",
    "    \n",
    "    N = len(out)\n",
    "    \n",
    "    s = struct.Struct('<IIII')    \n",
    "\n",
    "    for i in range(0,N-s.size):\n",
    "        magic = s.unpack(out[i:i+s.size])\n",
    "        \n",
    "        if magic[0] == MAGIC_HEADER and magic[1] == MAGIC_HEADER and magic[2] == MAGIC_HEADER and magic[3] == MAGIC_HEADER:\n",
    "            magic_header_idx = dump_data_idx\n",
    "            \n",
    "        if magic[0] == MAGIC_FOOTER and magic[1] == MAGIC_FOOTER and magic[2] == MAGIC_FOOTER and magic[3] == MAGIC_FOOTER:\n",
    "            magic_footer_idx = dump_data_idx\n",
    "            found_footer = True\n",
    "            break\n",
    "        \n",
    "        dump_data_idx += 1\n",
    "\n",
    "    if not found_footer:\n",
    "        # Sleep for 100 ms to let OS do other work if needed\n",
    "        time.sleep(0.1)\n",
    "\n",
    "        # Break loop if timeout\n",
    "        if time.time() >= start_time + timeout_sec:\n",
    "            print(\"ERROR: couldn't find magic footer!\")\n",
    "            break\n",
    "\n",
    "end_time = time.time()\n",
    "\n",
    "# Flush the host OS to make sure all\n",
    "# serial data is out of buffers\n",
    "# (this might be necessary to get last sample value!)\n",
    "for i in range(0,10):\n",
    "    out = bytes(amdc.ser.read_all())\n",
    "    dump_data += out\n",
    "            \n",
    "print(\"magic_header_idx:\", magic_header_idx)\n",
    "print(\"magic_footer_idx:\", magic_footer_idx)\n",
    "\n",
    "print(\"Dump took:\", '{:f}'.format(end_time - start_time), \" sec\")"
   ]
  },
  {
   "cell_type": "code",
   "execution_count": 17,
   "metadata": {},
   "outputs": [
    {
     "name": "stdout",
     "output_type": "stream",
     "text": [
      "num samples: 0x4f42 20290\n",
      "data type: 0x3 3\n"
     ]
    }
   ],
   "source": [
    "N = len(dump_data)\n",
    "bout = bytes(dump_data)\n",
    "\n",
    "metadata_start_idx = magic_header_idx+(4*4)\n",
    "\n",
    "s = struct.Struct(\"<II\")\n",
    "unpacked_header = s.unpack(bout[metadata_start_idx:metadata_start_idx+s.size])\n",
    "num_samples  = unpacked_header[0]\n",
    "data_type    = unpacked_header[1]\n",
    "\n",
    "print(\"num samples:\", hex(num_samples), num_samples)\n",
    "print(\"data type:\", hex(data_type), data_type)"
   ]
  },
  {
   "cell_type": "code",
   "execution_count": 18,
   "metadata": {},
   "outputs": [],
   "source": [
    "dump_samples_idx = metadata_start_idx+s.size+1\n",
    "\n",
    "if data_type == 1:\n",
    "    s = struct.Struct('<Ii')\n",
    "elif data_type == 2 or data_type == 3:\n",
    "    s = struct.Struct('<If')\n",
    "else:\n",
    "    print(\"ERROR: unknown data type!\")\n",
    "\n",
    "samples = []\n",
    "    \n",
    "for i in range(0,num_samples):   \n",
    "    sample = s.unpack(bout[dump_samples_idx:dump_samples_idx+s.size])\n",
    "    dump_samples_idx += s.size\n",
    "    \n",
    "    ts  = sample[0]/1e6\n",
    "    val = sample[1]\n",
    "    \n",
    "    # FIXME(NP): we shouldn't need to do this.... :(\n",
    "    if i != 0:\n",
    "        samples.append([ts, val])"
   ]
  },
  {
   "cell_type": "code",
   "execution_count": 19,
   "metadata": {},
   "outputs": [],
   "source": [
    "# Convert to DataFrame\n",
    "\n",
    "arr = np.array(samples)\n",
    "df = pd.DataFrame(data = arr, columns = ['t', var[4::]])\n",
    "df['t'] = df['t'] - df['t'].min()\n",
    "df.set_index('t', inplace = True)"
   ]
  },
  {
   "cell_type": "code",
   "execution_count": 20,
   "metadata": {},
   "outputs": [
    {
     "data": {
      "text/plain": [
       "t\n",
       "0.0000    0.265938\n",
       "0.0001    0.194599\n",
       "0.0002    0.121316\n",
       "0.0003    0.046821\n",
       "0.0004   -0.028142\n",
       "            ...   \n",
       "2.0284    0.742717\n",
       "2.0285    0.728597\n",
       "2.0286    0.707198\n",
       "2.0287    0.678732\n",
       "2.0288    0.643485\n",
       "Name: vsi_a, Length: 20289, dtype: float64"
      ]
     },
     "execution_count": 20,
     "metadata": {},
     "output_type": "execute_result"
    }
   ],
   "source": [
    "df['vsi_a']"
   ]
  },
  {
   "cell_type": "code",
   "execution_count": 26,
   "metadata": {},
   "outputs": [
    {
     "data": {
      "text/plain": [
       "(0.0, 0.25)"
      ]
     },
     "execution_count": 26,
     "metadata": {},
     "output_type": "execute_result"
    },
    {
     "data": {
      "image/png": "[encoded data removed]",
      "text/plain": [
       "<Figure size 432x288 with 1 Axes>"
      ]
     },
     "metadata": {
      "needs_background": "light"
     },
     "output_type": "display_data"
    }
   ],
   "source": [
    "ax = df['vsi_a'].plot()\n",
    "ax.set_xlim([0, 0.25])"
   ]
  },
  {
   "cell_type": "code",
   "execution_count": null,
   "metadata": {},
   "outputs": [],
   "source": []
  },
  {
   "cell_type": "code",
   "execution_count": null,
   "metadata": {},
   "outputs": [],
   "source": []
  },
  {
   "cell_type": "code",
   "execution_count": null,
   "metadata": {},
   "outputs": [],
   "source": []
  },
  {
   "cell_type": "code",
   "execution_count": null,
   "metadata": {},
   "outputs": [],
   "source": []
  },
  {
   "cell_type": "code",
   "execution_count": null,
   "metadata": {},
   "outputs": [],
   "source": []
  },
  {
   "cell_type": "code",
   "execution_count": null,
   "metadata": {},
   "outputs": [],
   "source": []
  },
  {
   "cell_type": "code",
   "execution_count": 80,
   "metadata": {},
   "outputs": [],
   "source": []
  },
  {
   "cell_type": "code",
   "execution_count": null,
   "metadata": {},
   "outputs": [],
   "source": []
  },
  {
   "cell_type": "code",
   "execution_count": null,
   "metadata": {},
   "outputs": [],
   "source": []
  },
  {
   "cell_type": "code",
   "execution_count": null,
   "metadata": {},
   "outputs": [],
   "source": []
  },
  {
   "cell_type": "code",
   "execution_count": null,
   "metadata": {},
   "outputs": [],
   "source": []
  },
  {
   "cell_type": "code",
   "execution_count": 6,
   "metadata": {},
   "outputs": [
    {
     "name": "stdout",
     "output_type": "stream",
     "text": [
      "\t> log dump bin 0\n",
      "magic_header_idx: 26\n",
      "magic_footer_idx: 159139\n",
      "Dump took: 19.857759  sec\n",
      "num samples: 0x4f36 20278\n",
      "data type: 0x3 3\n",
      "\t> log dump bin 1\n",
      "magic_header_idx: 26\n",
      "magic_footer_idx: 159139\n",
      "Dump took: 19.781481  sec\n",
      "num samples: 0x4f36 20278\n",
      "data type: 0x3 3\n",
      "\t> log dump bin 2\n",
      "magic_header_idx: 26\n",
      "magic_footer_idx: 159139\n",
      "Dump took: 19.783420  sec\n",
      "num samples: 0x4f36 20278\n",
      "data type: 0x3 3\n"
     ]
    }
   ],
   "source": [
    "out = logger.dump()"
   ]
  },
  {
   "cell_type": "code",
   "execution_count": 7,
   "metadata": {},
   "outputs": [
    {
     "data": {
      "text/plain": [
       "<matplotlib.axes._subplots.AxesSubplot at 0x29fd43030c8>"
      ]
     },
     "execution_count": 7,
     "metadata": {},
     "output_type": "execute_result"
    },
    {
     "data": {
      "image/png": "[encoded data removed]",
      "text/plain": [
       "<Figure size 432x288 with 1 Axes>"
      ]
     },
     "metadata": {
      "needs_background": "light"
     },
     "output_type": "display_data"
    }
   ],
   "source": [
    "out.plot()"
   ]
  },
  {
   "cell_type": "code",
   "execution_count": null,
   "metadata": {},
   "outputs": [],
   "source": []
  },
  {
   "cell_type": "code",
   "execution_count": null,
   "metadata": {},
   "outputs": [],
   "source": []
  },
  {
   "cell_type": "code",
   "execution_count": null,
   "metadata": {},
   "outputs": [],
   "source": []
  },
  {
   "cell_type": "code",
   "execution_count": null,
   "metadata": {},
   "outputs": [],
   "source": []
  },
  {
   "cell_type": "code",
   "execution_count": null,
   "metadata": {},
   "outputs": [],
   "source": [
    "out = logger.dump('data_logging/levitate', timestamp = True)"
   ]
  },
  {
   "cell_type": "code",
   "execution_count": null,
   "metadata": {},
   "outputs": [],
   "source": [
    "ax = out['x y z'.split()].multiply(1000).plot();\n",
    "ax.set_ylabel('Displacement [mm]');"
   ]
  },
  {
   "cell_type": "code",
   "execution_count": null,
   "metadata": {},
   "outputs": [],
   "source": [
    "time.sleep(4)\n",
    "cramb.levitate()\n",
    "time.sleep(6)\n",
    "cramb.stop_levitate()"
   ]
  },
  {
   "cell_type": "code",
   "execution_count": null,
   "metadata": {},
   "outputs": [],
   "source": [
    "cramb.stop_levitate()"
   ]
  },
  {
   "cell_type": "code",
   "execution_count": null,
   "metadata": {},
   "outputs": [],
   "source": [
    "run1 = pd.read_csv('data_logging/startup_1.csv')\n",
    "run2 = pd.read_csv('data_logging/startup_2.csv')\n",
    "run3 = pd.read_csv('data_logging/startup_3.csv')\n",
    "run4 = pd.read_csv('data_logging/startup_4.csv')\n",
    "lev1 = pd.read_csv('data_logging/levitate_1.csv')"
   ]
  },
  {
   "cell_type": "code",
   "execution_count": null,
   "metadata": {},
   "outputs": [],
   "source": [
    "lev2['x y z'.split()].plot();"
   ]
  },
  {
   "cell_type": "code",
   "execution_count": null,
   "metadata": {},
   "outputs": [],
   "source": [
    "lev['Fx_star Fy_star Fz_star'.split()].plot();"
   ]
  },
  {
   "cell_type": "code",
   "execution_count": null,
   "metadata": {},
   "outputs": [],
   "source": [
    "cramb.read_position()"
   ]
  },
  {
   "cell_type": "code",
   "execution_count": null,
   "metadata": {},
   "outputs": [],
   "source": [
    "run1['x_star y_star z_star'.split()].plot();"
   ]
  },
  {
   "cell_type": "code",
   "execution_count": null,
   "metadata": {},
   "outputs": [],
   "source": [
    "run1['Fx_star Fy_star Fz_star'.split()].plot();"
   ]
  },
  {
   "cell_type": "code",
   "execution_count": null,
   "metadata": {},
   "outputs": [],
   "source": [
    "run2['Ix_star Iy_star Iz_star'.split()].plot();"
   ]
  },
  {
   "cell_type": "code",
   "execution_count": null,
   "metadata": {},
   "outputs": [],
   "source": [
    "ax = out['Va_star Vb_star Vc_star'.split()].plot()"
   ]
  },
  {
   "cell_type": "code",
   "execution_count": null,
   "metadata": {},
   "outputs": [],
   "source": [
    "run3['x y z'.split()].plot();"
   ]
  },
  {
   "cell_type": "code",
   "execution_count": null,
   "metadata": {},
   "outputs": [],
   "source": [
    "run3['Ix Iy Iz'.split()].plot();"
   ]
  },
  {
   "cell_type": "code",
   "execution_count": null,
   "metadata": {},
   "outputs": [],
   "source": [
    "run4['Fx_star Fy_star Fz_star'.split()].plot();"
   ]
  },
  {
   "cell_type": "code",
   "execution_count": null,
   "metadata": {},
   "outputs": [],
   "source": [
    "run4['Ix_star Iy_star Iz_star'.split()].plot();"
   ]
  },
  {
   "cell_type": "code",
   "execution_count": null,
   "metadata": {},
   "outputs": [],
   "source": [
    "out = cramb.set_currents_3phase(1, -0.5, 5)\n",
    "cramb.enable_current_control(5)\n",
    "time.sleep(1)\n",
    "\n",
    "logger.log(duration = 0.25)\n",
    "\n",
    "time.sleep(1)\n",
    "cramb.zero()"
   ]
  },
  {
   "cell_type": "code",
   "execution_count": null,
   "metadata": {},
   "outputs": [],
   "source": [
    "%%script false\n",
    "inv = 5\n",
    "cramb.set_currents_3phase(Ia = 1, Ib = -0.5, inverter = inv)\n",
    "\n",
    "cramb.enable_current_control(inv)\n",
    "time.sleep(4)\n",
    "cramb.disable_current_control(inv)"
   ]
  },
  {
   "cell_type": "code",
   "execution_count": null,
   "metadata": {},
   "outputs": [],
   "source": [
    "%%script false\n",
    "inv = 1\n",
    "cramb.set_currents_1phase(1, inverter = inv)\n",
    "\n",
    "cramb.enable_current_control(inv)\n",
    "time.sleep(4)\n",
    "cramb.disable_current_control(inv)"
   ]
  },
  {
   "cell_type": "code",
   "execution_count": null,
   "metadata": {},
   "outputs": [],
   "source": [
    "out"
   ]
  },
  {
   "cell_type": "code",
   "execution_count": null,
   "metadata": {},
   "outputs": [],
   "source": [
    "cramb.read_position()"
   ]
  },
  {
   "cell_type": "code",
   "execution_count": null,
   "metadata": {},
   "outputs": [],
   "source": [
    "cramb.read_position()"
   ]
  },
  {
   "cell_type": "code",
   "execution_count": null,
   "metadata": {},
   "outputs": [],
   "source": [
    "cramb.stop_callback()\n",
    "cramb.disconnect()"
   ]
  },
  {
   "cell_type": "code",
   "execution_count": null,
   "metadata": {},
   "outputs": [],
   "source": [
    "%%script false\n",
    "def cc_gain_calc(R, L, fb):\n",
    "\n",
    "    wb = 2*np.pi*fb\n",
    "    kp = L*wb\n",
    "    ki = R*wb\n",
    "    \n",
    "    return kp, ki  "
   ]
  },
  {
   "cell_type": "markdown",
   "metadata": {},
   "source": [
    "Set up inverter gains for test RL load"
   ]
  }
 ],
 "metadata": {
  "kernelspec": {
   "display_name": "Python 3",
   "language": "python",
   "name": "python3"
  },
  "language_info": {
   "codemirror_mode": {
    "name": "ipython",
    "version": 3
   },
   "file_extension": ".py",
   "mimetype": "text/x-python",
   "name": "python",
   "nbconvert_exporter": "python",
   "pygments_lexer": "ipython3",
   "version": "3.7.4"
  }
 },
 "nbformat": 4,
 "nbformat_minor": 4
}
