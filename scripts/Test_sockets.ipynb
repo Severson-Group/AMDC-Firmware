{
 "cells": [
  {
   "cell_type": "markdown",
   "metadata": {},
   "source": [
    "# Test Out Logger"
   ]
  },
  {
   "cell_type": "code",
   "execution_count": 4,
   "metadata": {},
   "outputs": [],
   "source": [
    "from AMDC_Logger import AMDC_Logger, find_mapfile"
   ]
  },
  {
   "cell_type": "code",
   "execution_count": 5,
   "metadata": {},
   "outputs": [],
   "source": [
    "mfpath = find_mapfile(r'C:\\Users\\Nathan\\Documents\\GitHub\\AMDC-Firmware\\sdk\\app_cpu1')\n",
    "logger = AMDC_Logger(amdc, mfpath)"
   ]
  },
  {
   "cell_type": "code",
   "execution_count": 6,
   "metadata": {},
   "outputs": [
    {
     "name": "stdout",
     "output_type": "stream",
     "text": [
      "\t> log info\n",
      "\t> log info\n",
      "###################   AMDC LOGGER INFO   ###################\n",
      "\n",
      "Variable Name:      Index:         Type:         Sample Rate [Hz]:    Number of Samples:\n",
      "\n"
     ]
    }
   ],
   "source": [
    "logger.sync()\n",
    "logger.info()"
   ]
  },
  {
   "cell_type": "code",
   "execution_count": 7,
   "metadata": {},
   "outputs": [
    {
     "name": "stdout",
     "output_type": "stream",
     "text": [
      "\t> log reg 0 LOG_vsi_a 537542920 10000 double\n",
      "['log reg 0 LOG_vsi_a 537542920 10000 double', 'SUCCESS']\n",
      "\t> log reg 1 LOG_vsi_b 537542928 10000 float\n",
      "['log reg 1 LOG_vsi_b 537542928 10000 float', 'SUCCESS']\n",
      "\t> log reg 2 LOG_vsi_c 537542932 10000 int\n",
      "['log reg 2 LOG_vsi_c 537542932 10000 int', 'SUCCESS']\n"
     ]
    }
   ],
   "source": [
    "logger.unregister_all()\n",
    "logger.register('vsi_a', var_type = 'double', samples_per_sec = 10000)\n",
    "logger.register('vsi_b', var_type = 'float', samples_per_sec = 10000)\n",
    "logger.register('vsi_c', var_type = 'int', samples_per_sec = 10000)"
   ]
  },
  {
   "cell_type": "code",
   "execution_count": 8,
   "metadata": {},
   "outputs": [
    {
     "name": "stdout",
     "output_type": "stream",
     "text": [
      "\t> log empty_all\n",
      "['log empty_all', 'SUCCESS']\n",
      "\t> log start\n",
      "['log start', 'SUCCESS']\n",
      "\t> log stop\n",
      "['log stop', 'SUCCESS']\n"
     ]
    }
   ],
   "source": [
    "logger.clear_all()\n",
    "logger.log(10)"
   ]
  },
  {
   "cell_type": "code",
   "execution_count": 9,
   "metadata": {
    "scrolled": true
   },
   "outputs": [
    {
     "name": "stdout",
     "output_type": "stream",
     "text": [
      "\t> log dump eth bin 0\n",
      "Dumping: LOG_vsi_a\n",
      "Dump took: 9.871  sec\n",
      "Dump rate: 10131.163  sps\n",
      "Num samples: 100000 \n",
      "\n",
      "\t> log dump eth bin 1\n",
      "Dumping: LOG_vsi_b\n",
      "Dump took: 9.200  sec\n",
      "Dump rate: 10869.511  sps\n",
      "Num samples: 100000 \n",
      "\n",
      "\t> log dump eth bin 2\n",
      "Dumping: LOG_vsi_c\n",
      "Dump took: 9.031  sec\n",
      "Dump rate: 11072.936  sps\n",
      "Num samples: 100000 \n",
      "\n",
      "\t> log dump eth bin 0\n",
      "Dumping: LOG_vsi_a\n",
      "Dump took: 9.777  sec\n",
      "Dump rate: 10228.370  sps\n",
      "Num samples: 100000 \n",
      "\n",
      "\t> log dump eth bin 1\n",
      "Dumping: LOG_vsi_b\n",
      "Dump took: 9.702  sec\n",
      "Dump rate: 10307.198  sps\n",
      "Num samples: 100000 \n",
      "\n",
      "\t> log dump eth bin 2\n",
      "Dumping: LOG_vsi_c\n",
      "Dump took: 9.621  sec\n",
      "Dump rate: 10394.333  sps\n",
      "Num samples: 100000 \n",
      "\n",
      "\t> log dump eth bin 0\n",
      "Dumping: LOG_vsi_a\n",
      "Dump took: 9.965  sec\n",
      "Dump rate: 10035.260  sps\n",
      "Num samples: 100000 \n",
      "\n",
      "\t> log dump eth bin 1\n",
      "Dumping: LOG_vsi_b\n",
      "Dump took: 10.980  sec\n",
      "Dump rate: 9107.727  sps\n",
      "Num samples: 100000 \n",
      "\n",
      "\t> log dump eth bin 2\n",
      "Dumping: LOG_vsi_c\n",
      "Dump took: 9.141  sec\n",
      "Dump rate: 10939.919  sps\n",
      "Num samples: 100000 \n",
      "\n",
      "\t> log dump eth bin 0\n",
      "Dumping: LOG_vsi_a\n",
      "Dump took: 9.380  sec\n",
      "Dump rate: 10660.911  sps\n",
      "Num samples: 100000 \n",
      "\n",
      "\t> log dump eth bin 1\n",
      "Dumping: LOG_vsi_b\n",
      "Dump took: 9.340  sec\n",
      "Dump rate: 10706.681  sps\n",
      "Num samples: 100000 \n",
      "\n",
      "\t> log dump eth bin 2\n",
      "Dumping: LOG_vsi_c\n",
      "Dump took: 9.260  sec\n",
      "Dump rate: 10799.078  sps\n",
      "Num samples: 100000 \n",
      "\n",
      "\t> log dump eth bin 0\n",
      "Dumping: LOG_vsi_a\n",
      "Dump took: 9.856  sec\n",
      "Dump rate: 10145.856  sps\n",
      "Num samples: 100000 \n",
      "\n",
      "\t> log dump eth bin 1\n",
      "Dumping: LOG_vsi_b\n",
      "Dump took: 10.779  sec\n",
      "Dump rate: 9276.967  sps\n",
      "Num samples: 100000 \n",
      "\n",
      "\t> log dump eth bin 2\n",
      "Dumping: LOG_vsi_c\n",
      "Dump took: 9.179  sec\n",
      "Dump rate: 10894.384  sps\n",
      "Num samples: 100000 \n",
      "\n",
      "\t> log dump eth bin 0\n",
      "Dumping: LOG_vsi_a\n",
      "Dump took: 9.540  sec\n",
      "Dump rate: 10482.687  sps\n",
      "Num samples: 100000 \n",
      "\n",
      "\t> log dump eth bin 1\n",
      "Dumping: LOG_vsi_b\n",
      "Dump took: 10.281  sec\n",
      "Dump rate: 9727.065  sps\n",
      "Num samples: 100000 \n",
      "\n",
      "\t> log dump eth bin 2\n",
      "Dumping: LOG_vsi_c\n",
      "Dump took: 10.556  sec\n",
      "Dump rate: 9473.174  sps\n",
      "Num samples: 100000 \n",
      "\n",
      "\t> log dump eth bin 0\n",
      "Dumping: LOG_vsi_a\n",
      "Dump took: 10.114  sec\n",
      "Dump rate: 9887.153  sps\n",
      "Num samples: 100000 \n",
      "\n",
      "\t> log dump eth bin 1\n",
      "Dumping: LOG_vsi_b\n",
      "Dump took: 9.959  sec\n",
      "Dump rate: 10041.584  sps\n",
      "Num samples: 100000 \n",
      "\n",
      "\t> log dump eth bin 2\n",
      "Dumping: LOG_vsi_c\n",
      "Dump took: 9.119  sec\n",
      "Dump rate: 10966.611  sps\n",
      "Num samples: 100000 \n",
      "\n",
      "\t> log dump eth bin 0\n",
      "Dumping: LOG_vsi_a\n",
      "Dump took: 9.188  sec\n",
      "Dump rate: 10883.644  sps\n",
      "Num samples: 100000 \n",
      "\n",
      "\t> log dump eth bin 1\n",
      "Dumping: LOG_vsi_b\n",
      "Dump took: 9.975  sec\n",
      "Dump rate: 10024.994  sps\n",
      "Num samples: 100000 \n",
      "\n",
      "\t> log dump eth bin 2\n",
      "Dumping: LOG_vsi_c\n",
      "Dump took: 9.192  sec\n",
      "Dump rate: 10879.189  sps\n",
      "Num samples: 100000 \n",
      "\n",
      "\t> log dump eth bin 0\n",
      "Dumping: LOG_vsi_a\n",
      "Dump took: 9.888  sec\n",
      "Dump rate: 10113.198  sps\n",
      "Num samples: 100000 \n",
      "\n",
      "\t> log dump eth bin 1\n",
      "Dumping: LOG_vsi_b\n",
      "Dump took: 9.925  sec\n",
      "Dump rate: 10075.669  sps\n",
      "Num samples: 100000 \n",
      "\n",
      "\t> log dump eth bin 2\n",
      "Dumping: LOG_vsi_c\n",
      "Dump took: 9.970  sec\n",
      "Dump rate: 10029.935  sps\n",
      "Num samples: 100000 \n",
      "\n",
      "\t> log dump eth bin 0\n",
      "Dumping: LOG_vsi_a\n",
      "Dump took: 9.909  sec\n",
      "Dump rate: 10091.736  sps\n",
      "Num samples: 100000 \n",
      "\n",
      "\t> log dump eth bin 1\n",
      "Dumping: LOG_vsi_b\n",
      "Dump took: 9.795  sec\n",
      "Dump rate: 10209.158  sps\n",
      "Num samples: 100000 \n",
      "\n",
      "\t> log dump eth bin 2\n",
      "Dumping: LOG_vsi_c\n",
      "Dump took: 9.200  sec\n",
      "Dump rate: 10869.636  sps\n",
      "Num samples: 100000 \n",
      "\n"
     ]
    }
   ],
   "source": [
    "for i in range(10):\n",
    "    data = logger.dump(how='binary', max_tries = 1)"
   ]
  },
  {
   "cell_type": "code",
   "execution_count": 12,
   "metadata": {},
   "outputs": [
    {
     "data": {
      "text/plain": [
       "<matplotlib.axes._subplots.AxesSubplot at 0x20361910f08>"
      ]
     },
     "execution_count": 12,
     "metadata": {},
     "output_type": "execute_result"
    },
    {
     "data": {
      "image/png": "[encoded data removed]",
      "text/plain": [
       "<Figure size 432x288 with 1 Axes>"
      ]
     },
     "metadata": {
      "needs_background": "light"
     },
     "output_type": "display_data"
    }
   ],
   "source": [
    "data.plot()"
   ]
  },
  {
   "cell_type": "markdown",
   "metadata": {},
   "source": [
    "# Test Log Streaming"
   ]
  },
  {
   "cell_type": "code",
   "execution_count": null,
   "metadata": {},
   "outputs": [],
   "source": [
    "import random\n",
    "import multiprocess\n",
    "import time\n",
    "\n",
    "def worker(q):\n",
    "    for i in range(5):\n",
    "        q.put('text')\n",
    "        \n",
    "queue = multiprocess.Queue()\n",
    "\n",
    "p = multiprocess.Process(target=worker, args=(queue,))\n",
    "p.start()\n",
    "\n",
    "# Wait for worker to finish\n",
    "q.close()\n",
    "\n",
    "\n",
    "p.join()"
   ]
  },
  {
   "cell_type": "code",
   "execution_count": 21,
   "metadata": {},
   "outputs": [
    {
     "data": {
      "text/plain": [
       "b'h'"
      ]
     },
     "execution_count": 21,
     "metadata": {},
     "output_type": "execute_result"
    }
   ],
   "source": [
    "data = s1.recv(1)\n",
    "data"
   ]
  },
  {
   "cell_type": "code",
   "execution_count": 15,
   "metadata": {},
   "outputs": [
    {
     "name": "stdout",
     "output_type": "stream",
     "text": [
      "\t> log stream start 0 1\n",
      "['log stream start 0 1', 'SUCCESS']\n"
     ]
    },
    {
     "data": {
      "text/plain": [
       "['log stream start 0 1', 'SUCCESS']"
      ]
     },
     "execution_count": 15,
     "metadata": {},
     "output_type": "execute_result"
    }
   ],
   "source": [
    "amdc.cmd('log stream start 0 1')"
   ]
  },
  {
   "cell_type": "markdown",
   "metadata": {},
   "source": [
    "# Test AMDC Class"
   ]
  },
  {
   "cell_type": "code",
   "execution_count": 1,
   "metadata": {},
   "outputs": [],
   "source": [
    "from AMDC import AMDC"
   ]
  },
  {
   "cell_type": "code",
   "execution_count": 15,
   "metadata": {},
   "outputs": [],
   "source": [
    "amdc = AMDC()\n",
    "amdc.setup_comm_defaults('uart')\n",
    "amdc.uart_init('COM6')"
   ]
  },
  {
   "cell_type": "code",
   "execution_count": 2,
   "metadata": {},
   "outputs": [],
   "source": [
    "amdc = AMDC()\n",
    "amdc.setup_comm_defaults('eth')\n",
    "amdc.eth_init()\n",
    "(s0,s1,s2,s3,s4) = amdc.eth_create_sockets()\n",
    "amdc.eth_set_default_ascii_cmd_socket(s0)"
   ]
  },
  {
   "cell_type": "code",
   "execution_count": 3,
   "metadata": {},
   "outputs": [],
   "source": [
    "amdc.connect()"
   ]
  },
  {
   "cell_type": "code",
   "execution_count": 35,
   "metadata": {},
   "outputs": [],
   "source": [
    "amdc.disconnect()"
   ]
  },
  {
   "cell_type": "code",
   "execution_count": null,
   "metadata": {},
   "outputs": [],
   "source": []
  }
 ],
 "metadata": {
  "kernelspec": {
   "display_name": "Python 3",
   "language": "python",
   "name": "python3"
  },
  "language_info": {
   "codemirror_mode": {
    "name": "ipython",
    "version": 3
   },
   "file_extension": ".py",
   "mimetype": "text/x-python",
   "name": "python",
   "nbconvert_exporter": "python",
   "pygments_lexer": "ipython3",
   "version": "3.7.4"
  }
 },
 "nbformat": 4,
 "nbformat_minor": 2
}
