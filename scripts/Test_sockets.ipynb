{
 "cells": [
  {
   "cell_type": "code",
   "execution_count": 1,
   "metadata": {},
   "outputs": [],
   "source": [
    "import socket\n",
    "\n",
    "class AMDC:\n",
    "    def __init__(self, \n",
    "                 amdc_ip_addr = '192.168.1.10',\n",
    "                 amdc_ip_port = 7):\n",
    "        # Serial port configuration\n",
    "        self.amdc_ip_addr = amdc_ip_addr\n",
    "        self.amdc_ip_port = amdc_ip_port\n",
    "        \n",
    "        self.sockets = []\n",
    "\n",
    "    def new_socket(self, socket_type):\n",
    "        s = socket.socket(socket.AF_INET, socket.SOCK_STREAM)\n",
    "        s.connect((self.amdc_ip_addr, self.amdc_ip_port))\n",
    "        \n",
    "        if socket_type in ['ascii_cmd']:\n",
    "            s.send(bytearray([12, 34]))\n",
    "        elif socket_type in ['log_var']:\n",
    "            s.send(bytearray([56, 78]))\n",
    "        else:\n",
    "            raise NameError('InvalidSocketType')\n",
    "        \n",
    "        self.sockets.append(s)\n",
    "        return s\n",
    "    \n",
    "    def close_all_sockets(self):\n",
    "        for s in self.sockets:\n",
    "            s.close()\n",
    "    \n",
    "    @staticmethod\n",
    "    def cmd(socket, cmd_str):\n",
    "        socket.send(str.encode(cmd_str))"
   ]
  },
  {
   "cell_type": "code",
   "execution_count": 2,
   "metadata": {},
   "outputs": [],
   "source": [
    "amdc = AMDC()"
   ]
  },
  {
   "cell_type": "code",
   "execution_count": 9,
   "metadata": {},
   "outputs": [],
   "source": [
    "s1 = amdc.new_socket('ascii_cmd')"
   ]
  },
  {
   "cell_type": "code",
   "execution_count": 10,
   "metadata": {},
   "outputs": [],
   "source": [
    "AMDC.cmd(s1, 'nathan petersen is cool\\n')"
   ]
  },
  {
   "cell_type": "code",
   "execution_count": 8,
   "metadata": {},
   "outputs": [],
   "source": [
    "amdc.close_all_sockets()"
   ]
  },
  {
   "cell_type": "code",
   "execution_count": 5,
   "metadata": {},
   "outputs": [
    {
     "data": {
      "text/plain": [
       "b'help123'"
      ]
     },
     "execution_count": 5,
     "metadata": {},
     "output_type": "execute_result"
    }
   ],
   "source": [
    "data = s1.recv(1024)\n",
    "data"
   ]
  },
  {
   "cell_type": "code",
   "execution_count": null,
   "metadata": {},
   "outputs": [],
   "source": []
  }
 ],
 "metadata": {
  "kernelspec": {
   "display_name": "Python 3",
   "language": "python",
   "name": "python3"
  },
  "language_info": {
   "codemirror_mode": {
    "name": "ipython",
    "version": 3
   },
   "file_extension": ".py",
   "mimetype": "text/x-python",
   "name": "python",
   "nbconvert_exporter": "python",
   "pygments_lexer": "ipython3",
   "version": "3.7.4"
  }
 },
 "nbformat": 4,
 "nbformat_minor": 2
}
