{
 "cells": [
  {
   "cell_type": "code",
   "execution_count": 1,
   "metadata": {},
   "outputs": [],
   "source": [
    "import socket\n",
    "import time\n",
    "\n",
    "class AMDC:\n",
    "    def __init__(self, \n",
    "                 amdc_ip_addr = '192.168.1.10',\n",
    "                 amdc_ip_port = 7):\n",
    "        # Serial port configuration\n",
    "        self.amdc_ip_addr = amdc_ip_addr\n",
    "        self.amdc_ip_port = amdc_ip_port\n",
    "        \n",
    "        self.sockets = []\n",
    "\n",
    "    def new_socket(self, socket_type):\n",
    "        s = socket.socket(socket.AF_INET, socket.SOCK_STREAM)\n",
    "        s.connect((self.amdc_ip_addr, self.amdc_ip_port))\n",
    "        \n",
    "        if socket_type in ['ascii_cmd']:\n",
    "            s.send(bytearray([12, 34]))\n",
    "        elif socket_type in ['log_var']:\n",
    "            s.send(bytearray([56, 78]))\n",
    "        else:\n",
    "            raise NameError('InvalidSocketType')\n",
    "        \n",
    "        self.sockets.append(s)\n",
    "        return s\n",
    "    \n",
    "    def close_all_sockets(self):\n",
    "        for s in self.sockets:\n",
    "            s.close()\n",
    "    \n",
    "    @staticmethod\n",
    "    def cmd(socket, cmd_str):\n",
    "        socket.send(str.encode(cmd_str))"
   ]
  },
  {
   "cell_type": "code",
   "execution_count": 2,
   "metadata": {},
   "outputs": [],
   "source": [
    "amdc = AMDC()"
   ]
  },
  {
   "cell_type": "code",
   "execution_count": 3,
   "metadata": {},
   "outputs": [],
   "source": [
    "s1 = amdc.new_socket('ascii_cmd')"
   ]
  },
  {
   "cell_type": "code",
   "execution_count": 15,
   "metadata": {},
   "outputs": [],
   "source": [
    "# Ha, we can run this and the AMDC does not miss a BEAT.\n",
    "# \n",
    "# The host core is buffering all the incoming TCP packet\n",
    "# data and then the ICC code is slowly pushing the data\n",
    "# to the other core, 1 byte every 100 usec...\n",
    "#\n",
    "# This is awesome :)\n",
    "for i in range(0,1000):\n",
    "    AMDC.cmd(s1, 'blink deinit\\n')\n",
    "    AMDC.cmd(s1, 'hw led set 0 255 0 0\\n')\n",
    "    AMDC.cmd(s1, 'hw led set 1 0 255 0\\n')\n",
    "    AMDC.cmd(s1, 'hw led set 2 0 0 255\\n')\n",
    "    AMDC.cmd(s1, 'hw led set 3 255 255 255\\n')\n",
    "    AMDC.cmd(s1, 'blink init\\n')"
   ]
  },
  {
   "cell_type": "code",
   "execution_count": 9,
   "metadata": {},
   "outputs": [],
   "source": [
    "amdc.close_all_sockets()"
   ]
  },
  {
   "cell_type": "code",
   "execution_count": 12,
   "metadata": {},
   "outputs": [],
   "source": [
    "import select\n",
    "\n",
    "s1.setblocking(0)\n",
    "\n",
    "timeout_in_seconds = 0.100\n",
    "ready = select.select([s1], [], [], timeout_in_seconds)\n",
    "if ready[0]:\n",
    "    data = s1.recv(4096)"
   ]
  },
  {
   "cell_type": "code",
   "execution_count": null,
   "metadata": {},
   "outputs": [],
   "source": []
  }
 ],
 "metadata": {
  "kernelspec": {
   "display_name": "Python 3",
   "language": "python",
   "name": "python3"
  },
  "language_info": {
   "codemirror_mode": {
    "name": "ipython",
    "version": 3
   },
   "file_extension": ".py",
   "mimetype": "text/x-python",
   "name": "python",
   "nbconvert_exporter": "python",
   "pygments_lexer": "ipython3",
   "version": "3.7.4"
  }
 },
 "nbformat": 4,
 "nbformat_minor": 2
}
